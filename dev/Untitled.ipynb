{
 "cells": [
  {
   "cell_type": "code",
   "execution_count": null,
   "id": "f8e0a4cb-a226-4ab7-a093-015ea48749d0",
   "metadata": {
    "tags": []
   },
   "outputs": [],
   "source": [
    "%%time\n",
    "\n",
    "from premise import *\n",
    "import bw2data\n",
    "bw2data.projects.set_current(\"ei310\")\n",
    "from datapackage import Package\n",
    "\n",
    "scenarios = [\n",
    "    {\"model\": \"remind\", \"pathway\": \"SSP2-Base\", \"year\": 2020},\n",
    "    {\"model\": \"remind\", \"pathway\": \"SSP2-NPi\", \"year\": 2030},\n",
    "    {\"model\": \"remind\", \"pathway\": \"SSP2-NDC\", \"year\": 2040},\n",
    "    {\"model\": \"remind\", \"pathway\": \"SSP2-PkBudg1150\", \"year\": 2050},\n",
    "    #{\"model\": \"remind\", \"pathway\": \"SSP2-Base\", \"year\": 2060},\n",
    "    #{\"model\": \"remind\", \"pathway\": \"SSP2-Base\", \"year\": 2070},\n",
    "    #{\"model\": \"remind\", \"pathway\": \"SSP2-Base\", \"year\": 2080},\n",
    "    #{\"model\": \"remind\", \"pathway\": \"SSP2-Base\", \"year\": 2090},\n",
    "    #{\"model\": \"remind\", \"pathway\": \"SSP2-Base\", \"year\": 2100},\n",
    "    #{\"model\": \"remind\", \"pathway\": \"SSP2-PkBudg1150\", \"year\": 2030},\n",
    "    #{\"model\": \"remind\", \"pathway\": \"SSP2-PkBudg1150\", \"year\": 2040},\n",
    "    #{\"model\": \"remind\", \"pathway\": \"SSP2-PkBudg1150\", \"year\": 2050},\n",
    "    #{\"model\": \"remind\", \"pathway\": \"SSP2-PkBudg1150\", \"year\": 2060},\n",
    "    #{\"model\": \"remind\", \"pathway\": \"SSP2-PkBudg1150\", \"year\": 2070},\n",
    "    #{\"model\": \"remind\", \"pathway\": \"SSP2-PkBudg1150\", \"year\": 2080},\n",
    "    #{\"model\": \"remind\", \"pathway\": \"SSP2-PkBudg1150\", \"year\": 2090},\n",
    "    #{\"model\": \"remind\", \"pathway\": \"SSP2-PkBudg1150\", \"year\": 2100},\n",
    "]\n",
    "\n",
    "ndb = NewDatabase(\n",
    "        scenarios=scenarios,\n",
    "        source_db=\"ecoinvent-3.10-cutoff\",\n",
    "        source_version=\"3.10\",\n",
    "        key='tUePmX_S5B8ieZkkM7WUU2CnO8SmShwmAeWK9x2rTFo=',\n",
    ")"
   ]
  },
  {
   "cell_type": "code",
   "execution_count": 1,
   "id": "9d767ace-508a-41ab-8b1c-7c5656a94cd2",
   "metadata": {},
   "outputs": [
    {
     "data": {
      "text/plain": [
       "'C:\\\\WORK\\\\premise-witch\\\\premise\\\\__init__.py'"
      ]
     },
     "execution_count": 1,
     "metadata": {},
     "output_type": "execute_result"
    }
   ],
   "source": [
    "import premise\n",
    "premise.__file__"
   ]
  },
  {
   "cell_type": "code",
   "execution_count": null,
   "id": "3a51c2a3-10d1-471f-831d-4c5e85f0ca3b",
   "metadata": {},
   "outputs": [],
   "source": [
    "ndb.generate_scenario_report()"
   ]
  },
  {
   "cell_type": "code",
   "execution_count": null,
   "id": "2af7e08b-3749-4446-a3a9-9c99cc69edc0",
   "metadata": {},
   "outputs": [],
   "source": [
    "import copy\n",
    "import json\n",
    "import ujson\n",
    "import pickle"
   ]
  },
  {
   "cell_type": "code",
   "execution_count": null,
   "id": "8840d0de-7678-42bf-afc5-577972381077",
   "metadata": {},
   "outputs": [],
   "source": [
    "%%time\n",
    "\n",
    "data = pickle.dumps(ndb.database, -1)\n",
    "db = pickle.loads(data)"
   ]
  },
  {
   "cell_type": "code",
   "execution_count": null,
   "id": "4ed42626-c7ec-48ca-953c-6366a55f0253",
   "metadata": {},
   "outputs": [],
   "source": [
    "%%time\n",
    "\n",
    "json_data = ujson.dumps(ndb.database)\n",
    "db = ujson.loads(json_data)"
   ]
  },
  {
   "cell_type": "code",
   "execution_count": null,
   "id": "c895a2be-c321-4be1-add2-a52c18dd76eb",
   "metadata": {},
   "outputs": [],
   "source": [
    "%%time\n",
    "\n",
    "json_data = json.dumps(ndb.database)\n",
    "db = json.loads(json_data)"
   ]
  },
  {
   "cell_type": "code",
   "execution_count": null,
   "id": "17f6e969-f4c7-48bd-9d59-51c75bb8ff64",
   "metadata": {},
   "outputs": [],
   "source": [
    "%%time\n",
    "\n",
    "db = copy.deepcopy(ndb.database)"
   ]
  },
  {
   "cell_type": "code",
   "execution_count": null,
   "id": "0b728a1d-97ca-446e-9213-122530e198a2",
   "metadata": {},
   "outputs": [],
   "source": [
    "ndb.update()"
   ]
  },
  {
   "cell_type": "code",
   "execution_count": null,
   "id": "138efd2a-09a6-49ba-a281-cd9d850ec983",
   "metadata": {},
   "outputs": [],
   "source": [
    "for ds in ndb.scenarios[0][\"database\"]:\n",
    "    if ds[\"name\"] == \"market for petrol, low-sulfur, 20-year period\" and ds[\"location\"] == \"WEU\":\n",
    "        for e in ds[\"exchanges\"]:\n",
    "            print(e[\"name\"], e[\"amount\"])"
   ]
  },
  {
   "cell_type": "code",
   "execution_count": null,
   "id": "211a6853-25fe-4c87-999f-542a1266c678",
   "metadata": {},
   "outputs": [],
   "source": [
    "ndb.write_db_to_brightway()"
   ]
  },
  {
   "cell_type": "code",
   "execution_count": null,
   "id": "54d736b0-10a4-46c6-9df0-e7d7d9a4b021",
   "metadata": {},
   "outputs": [],
   "source": [
    "import pandas as pd\n",
    "fp = \"/Users/romain/GitHub/carculator_utils/carculator_utils/data/emission_factors/car/EF_HBEFA42_exhaust.csv\"\n",
    "df = pd.read_csv(fp)"
   ]
  },
  {
   "cell_type": "code",
   "execution_count": null,
   "id": "e8ab429b-5203-4137-8845-2b98ea37ef22",
   "metadata": {},
   "outputs": [],
   "source": [
    "df.loc[df[\"euro_class\"]==6.2]"
   ]
  },
  {
   "cell_type": "code",
   "execution_count": null,
   "id": "4230fc32-2d42-466c-85f3-80e6cc4eaa86",
   "metadata": {},
   "outputs": [],
   "source": [
    "import pandas as pd\n",
    "fp = \"/Users/romain/GitHub/premise/premise/data/iam_output_files/fleet_files/image_fleet_trucks.csv\"\n",
    "fp_out = \"/Users/romain/GitHub/premise/premise/data/iam_output_files/fleet_files/image_fleet_trucks_.csv\"\n",
    "df = pd.read_csv(fp, sep=\",\")"
   ]
  },
  {
   "cell_type": "code",
   "execution_count": null,
   "id": "d0d3a58a-263f-4535-b915-4b574183c757",
   "metadata": {},
   "outputs": [],
   "source": [
    "df"
   ]
  },
  {
   "cell_type": "code",
   "execution_count": null,
   "id": "981e291e-1596-4050-8082-44e3e5e84412",
   "metadata": {},
   "outputs": [],
   "source": [
    "df.groupby([\"year\", \"region\", \"powertrain\", \"size\"]).sum().to_csv(fp_out)"
   ]
  },
  {
   "cell_type": "code",
   "execution_count": null,
   "id": "413b5a4c-60da-46eb-8f1d-d12bfc7cc158",
   "metadata": {},
   "outputs": [],
   "source": [
    "from bw2io import ExcelImporter\n",
    "import bw2data\n",
    "\n",
    "bw2data.projects.set_current(\"new4\")\n",
    "fp = \"/Users/romain/GitHub/premise/premise/data/additional_inventories/lci-pass_cars.xlsx\"\n",
    "\n",
    "i = ExcelImporter(fp)"
   ]
  },
  {
   "cell_type": "code",
   "execution_count": null,
   "id": "68adf5cc-b1ff-48a6-ada7-e43775e482c4",
   "metadata": {},
   "outputs": [],
   "source": [
    "i.apply_strategies()"
   ]
  },
  {
   "cell_type": "code",
   "execution_count": null,
   "id": "61b871c9-57ea-401f-9154-a6b363f8e42e",
   "metadata": {},
   "outputs": [],
   "source": [
    "bw2data.databases"
   ]
  },
  {
   "cell_type": "code",
   "execution_count": null,
   "id": "ec27b7e0-e307-4bb7-8e5a-74925c507524",
   "metadata": {},
   "outputs": [],
   "source": [
    "i.match_database(fields=[\"name\", \"reference product\", \"location\"])\n",
    "i.match_database(\"ecoinvent 3.7 cutoff\", fields=[\"name\", \"reference product\", \"location\"])\n",
    "i.match_database(\"biosphere3\", fields=[\"name\", \"categories\",])"
   ]
  },
  {
   "cell_type": "code",
   "execution_count": null,
   "id": "1e8110ad-bdbf-4ece-8b7c-0e7a0f8ecab6",
   "metadata": {},
   "outputs": [],
   "source": [
    "i.statistics()"
   ]
  },
  {
   "cell_type": "code",
   "execution_count": null,
   "id": "3faabc32-91a3-4176-b031-f2e06bdb7398",
   "metadata": {},
   "outputs": [],
   "source": [
    "list(i.unlinked)"
   ]
  },
  {
   "cell_type": "code",
   "execution_count": null,
   "id": "25088141-2eea-4af4-9544-1b3f046e5cca",
   "metadata": {},
   "outputs": [],
   "source": [
    "i.write_excel()"
   ]
  },
  {
   "cell_type": "code",
   "execution_count": null,
   "id": "efbd469d-c1a8-4dfe-bb90-dfe09372fc1f",
   "metadata": {},
   "outputs": [],
   "source": [
    "ndb.write_db_to_brightway(\"test batt\")"
   ]
  },
  {
   "cell_type": "code",
   "execution_count": null,
   "id": "952f9395-d06e-4f1a-ac87-a9f0523ec6c0",
   "metadata": {},
   "outputs": [],
   "source": [
    "ndb.update()"
   ]
  },
  {
   "cell_type": "code",
   "execution_count": null,
   "id": "ec0bba7a-abd1-4109-87c9-c301f1440210",
   "metadata": {},
   "outputs": [],
   "source": [
    "ndb.write_db_to_brightway(\"test13\")"
   ]
  },
  {
   "cell_type": "code",
   "execution_count": null,
   "id": "effe2ac3-83eb-468f-8d40-8474d7784fef",
   "metadata": {},
   "outputs": [],
   "source": [
    "for ds in ndb.database:\n",
    "    if ds[\"reference product\"] == \"biogas\" and \"market for\" not in ds[\"name\"]:\n",
    "        print(ds[\"location\"])\n",
    "        for e in ds[\"exchanges\"]:\n",
    "            print(e[\"name\"], e[\"amount\"])\n",
    "        print()"
   ]
  },
  {
   "cell_type": "code",
   "execution_count": null,
   "id": "50a09453-7462-4dc2-9f60-81ebaf12f1c1",
   "metadata": {},
   "outputs": [],
   "source": [
    "ndb.write_db_to_brightway(\"test8\")"
   ]
  },
  {
   "cell_type": "code",
   "execution_count": null,
   "id": "59542b11-d967-4902-b4c9-02e0657b4053",
   "metadata": {},
   "outputs": [],
   "source": [
    "bw2data."
   ]
  },
  {
   "cell_type": "code",
   "execution_count": null,
   "id": "053477a2-0647-4d31-95fe-2e47e2de3b5b",
   "metadata": {},
   "outputs": [],
   "source": [
    "FU = [\n",
    "    {a: 1} for a in\n",
    "    bw2data.Database(\"ecoinvent_cutoff_3.9_image_SSP2-Base_2050\")\n",
    "    if a[\"name\"].startswith(\"electricity production\") and a[\"unit\"] == \"kilowatt hour\"\n",
    "]\n",
    "\n",
    "print(len(FU))\n",
    "\n",
    "list_meth = [\n",
    "    ('IPCC 2021', 'climate change', 'GWP 100a, incl. H'),\n",
    "    ('IPCC 2021', 'climate change', 'GWP 100a, incl. H and bio CO2')\n",
    "]\n",
    "import bw2calc\n",
    "bw2data.calculation_setups['multiLCA'] = {'inv': FU, 'ia': list_meth}\n",
    "myMultiLCA = bw2calc.MultiLCA('multiLCA')\n",
    "df_impact_exc = pd.DataFrame(columns = [\", \".join(i) for i in list_meth],\n",
    "     data = myMultiLCA.results,\n",
    "     index=[k[\"name\"] + \", \" + k[\"location\"] for i in FU for k in i]\n",
    ")"
   ]
  },
  {
   "cell_type": "code",
   "execution_count": null,
   "id": "ff375238-34a6-4a0f-86a0-3647979ce683",
   "metadata": {},
   "outputs": [],
   "source": [
    "ndb.update_steel()"
   ]
  },
  {
   "cell_type": "code",
   "execution_count": null,
   "id": "5db0a157-ba47-4226-b2f9-fabe8d97f27f",
   "metadata": {},
   "outputs": [],
   "source": [
    "ndb.update_biomass()"
   ]
  },
  {
   "cell_type": "code",
   "execution_count": null,
   "id": "79a4faf4-82ea-4349-8a47-d10943caa68e",
   "metadata": {},
   "outputs": [],
   "source": [
    "ndb.update_electricity()"
   ]
  },
  {
   "cell_type": "code",
   "execution_count": null,
   "id": "a85ca090-8d49-42c2-8b21-ffc69fabc12d",
   "metadata": {
    "tags": []
   },
   "outputs": [],
   "source": [
    "ndb.write_db_to_simapro()"
   ]
  },
  {
   "cell_type": "code",
   "execution_count": null,
   "id": "a174f049-4737-48e6-875b-5e498c9c5dd4",
   "metadata": {},
   "outputs": [],
   "source": [
    "for ds in ndb.scenarios[0][\"database\"]:\n",
    "    if ds[\"name\"].startswith(\"market group for electricity, low\"):\n",
    "        print(ds[\"name\"], ds[\"reference product\"], ds[\"location\"])"
   ]
  },
  {
   "cell_type": "code",
   "execution_count": null,
   "id": "e68e22b7-58cc-46d6-be03-4dbfb2ace7e1",
   "metadata": {},
   "outputs": [],
   "source": [
    "ndb.scenarios[1][\"iam data\"].carbon_capture_rate"
   ]
  },
  {
   "cell_type": "code",
   "execution_count": null,
   "id": "f0382864-e70c-42ab-886f-4e7b0de00f66",
   "metadata": {
    "tags": []
   },
   "outputs": [],
   "source": [
    "from collections import defaultdict\n",
    "res = defaultdict(float)\n",
    "for ds in ndb.scenarios[0][\"database\"]:\n",
    "    if ds[\"reference product\"]==\"biogas\":\n",
    "        print(ds[\"location\"], ds[\"name\"])\n",
    "        for e in ds[\"exchanges\"]:\n",
    "            print(e[\"name\"], e[\"amount\"], e.get(\"location\"))\n",
    "        print()\n",
    "        \n",
    "            "
   ]
  },
  {
   "cell_type": "code",
   "execution_count": null,
   "id": "e94b5f39-dba1-4057-9726-4ef5d32e45ec",
   "metadata": {
    "tags": []
   },
   "outputs": [],
   "source": [
    "from collections import defaultdict\n",
    "res = defaultdict(float)\n",
    "for ds in ndb.scenarios[1][\"database\"]:\n",
    "    if ds[\"name\"]==\"market group for heat, district or industrial, natural gas\":\n",
    "        print(ds[\"location\"], ds[\"name\"])\n",
    "        for e in ds[\"exchanges\"]:\n",
    "            print(e[\"name\"], e[\"amount\"], e.get(\"location\"), e[\"type\"])\n",
    "        print()\n",
    "            "
   ]
  },
  {
   "cell_type": "code",
   "execution_count": null,
   "id": "e756af77-0a99-4b4f-adea-34c719e7e8f9",
   "metadata": {
    "tags": []
   },
   "outputs": [],
   "source": [
    "from collections import defaultdict\n",
    "res = defaultdict(float)\n",
    "for ds in ndb.scenarios[0][\"database\"]:\n",
    "    if ds[\"name\"]==\"transport, freight, lorry, plugin diesel hybrid, 26t gross weight, 2020, EURO-VI, regional delivery\" and ds[\"location\"] == \"ME\":\n",
    "        print(ds[\"location\"], ds[\"name\"])\n",
    "        for e in ds[\"exchanges\"]:\n",
    "            print(e[\"name\"], e[\"amount\"], e.get(\"location\"), e[\"type\"])\n",
    "        print()\n",
    "            "
   ]
  },
  {
   "cell_type": "code",
   "execution_count": null,
   "id": "9048665b-cb07-40da-abc8-6b7b7864b3b4",
   "metadata": {
    "tags": []
   },
   "outputs": [],
   "source": [
    "from premise.geomap import Geomap\n",
    "geo = Geomap(\"remind\")\n",
    "geo.ecoinvent_to_iam_location(\"Europe, without Russia and Turkey\")"
   ]
  },
  {
   "cell_type": "code",
   "execution_count": null,
   "id": "6e9b73ca-ce6e-49c3-93d7-e93f17d2a58a",
   "metadata": {
    "tags": []
   },
   "outputs": [],
   "source": [
    "geo.iam_to_ecoinvent_location(\"EUR\")"
   ]
  },
  {
   "cell_type": "code",
   "execution_count": null,
   "id": "a8b87c53-f694-4094-ac8f-6177c653547c",
   "metadata": {
    "tags": []
   },
   "outputs": [],
   "source": [
    "geo.rev_additional_mappings"
   ]
  },
  {
   "cell_type": "code",
   "execution_count": null,
   "id": "1d863e7b-11ab-417b-96f7-3342529422ad",
   "metadata": {
    "tags": []
   },
   "outputs": [],
   "source": [
    "from collections import defaultdict\n",
    "res = defaultdict(float)\n",
    "for ds in ndb.scenarios[0][\"database\"]:\n",
    "    if ds[\"name\"]==\"pig iron production\" and ds[\"location\"] == \"CHN\":\n",
    "        print(ds[\"location\"], ds[\"name\"])\n",
    "        for e in ds[\"exchanges\"]:\n",
    "            print(e[\"name\"], e[\"amount\"])\n",
    "        print(ds[\"comment\"])\n",
    "        print()\n",
    "            "
   ]
  },
  {
   "cell_type": "code",
   "execution_count": null,
   "id": "95c13bbe-2950-4669-bcb4-a0015f7c9121",
   "metadata": {
    "tags": []
   },
   "outputs": [],
   "source": [
    "import pandas as pd\n",
    "import matplotlib.pyplot as plt\n",
    "pd.DataFrame.from_dict(res, orient=\"index\").plot(kind=\"bar\", figsize=(20, 5))\n",
    "plt.ylabel(\"kg heavy fuel oil/kWh\")\n",
    "plt.savefig(\"electricity production, oil.png\")"
   ]
  },
  {
   "cell_type": "code",
   "execution_count": null,
   "id": "ad811061-de7a-43bf-b255-35b8d5616fb7",
   "metadata": {
    "tags": []
   },
   "outputs": [],
   "source": [
    "ndb.scenarios[0][\"iam data\"].electricity_efficiencies.coords[\"variables\"].values"
   ]
  },
  {
   "cell_type": "code",
   "execution_count": null,
   "id": "aa933c88-a2c2-4178-ad77-a8d7a61fcfdb",
   "metadata": {
    "tags": []
   },
   "outputs": [],
   "source": [
    "ndb.scenarios[0][\"iam data\"].electricity_efficiencies.sel(variables=\"Biomass IGCC CCS\", year=2050)"
   ]
  },
  {
   "cell_type": "code",
   "execution_count": null,
   "id": "407ea861-e723-4fda-9e23-d2c21f01d42a",
   "metadata": {},
   "outputs": [],
   "source": [
    "ndb.generate_change_report()"
   ]
  },
  {
   "cell_type": "code",
   "execution_count": null,
   "id": "4247493c-67c4-492c-a124-e3b5590a3c76",
   "metadata": {},
   "outputs": [],
   "source": [
    "ndb.scenarios[0][\"iam data\"].gas_markets.sel(region=\"World\")"
   ]
  },
  {
   "cell_type": "code",
   "execution_count": null,
   "id": "7a6aa44a-f506-4d85-a809-b3e67b0f8706",
   "metadata": {},
   "outputs": [],
   "source": [
    "ndb.scenarios[0]."
   ]
  },
  {
   "cell_type": "code",
   "execution_count": null,
   "id": "64ed127c-8fe5-4c6a-853d-b889b91cbc07",
   "metadata": {},
   "outputs": [],
   "source": [
    "for ds in ndb.scenarios[0][\"database\"]:\n",
    "    for e in ds[\"exchanges\"]:\n",
    "        if e[\"name\"] == \"market for platinum\" and e[\"product\"] == \"platinum\":\n",
    "            print(ds[\"name\"], ds[\"location\"], e[\"name\"], e[\"location\"])"
   ]
  },
  {
   "cell_type": "code",
   "execution_count": null,
   "id": "d751e8eb-0534-445c-b034-f3f338d62c36",
   "metadata": {},
   "outputs": [],
   "source": [
    "import pprint\n",
    "for ds in ndb.scenarios[0][\"database\"]:\n",
    "    if ds[\"name\"].lower() == \"lithium carbonate, precipitated\":\n",
    "        print(ds[\"name\"], ds[\"location\"])"
   ]
  },
  {
   "cell_type": "code",
   "execution_count": null,
   "id": "c7b54985-0f01-4bea-b19a-cbb655a88084",
   "metadata": {},
   "outputs": [],
   "source": [
    "from premise.activity_maps import InventorySet\n",
    "inv = InventorySet(ndb.database, \"3.9\")"
   ]
  },
  {
   "cell_type": "code",
   "execution_count": null,
   "id": "a54f1930-02ac-4de9-aaab-4eb14efa978f",
   "metadata": {},
   "outputs": [],
   "source": [
    "inv.generate_metals_map()"
   ]
  },
  {
   "cell_type": "code",
   "execution_count": null,
   "id": "daa5d530-fbfc-470c-a06b-0e9103860aa3",
   "metadata": {},
   "outputs": [],
   "source": [
    "inv.generate_powerplant_map()"
   ]
  },
  {
   "cell_type": "code",
   "execution_count": null,
   "id": "2c8f798d-7404-4c6d-8764-ada72f72e42d",
   "metadata": {},
   "outputs": [],
   "source": [
    "inv.generate_daccs_map()"
   ]
  },
  {
   "cell_type": "code",
   "execution_count": null,
   "id": "5da69f1b-31f9-4687-b8e7-b48207dfae56",
   "metadata": {},
   "outputs": [],
   "source": [
    "ndb.write_db_to_brightway(\"test_metals\")"
   ]
  },
  {
   "cell_type": "code",
   "execution_count": null,
   "id": "fb809bb4-77c3-4e57-98a0-bbc15e3b7115",
   "metadata": {},
   "outputs": [],
   "source": [
    "products = [\n",
    "    'lightweighting, glider',\n",
    "    'auxilliary battery inputs, for road vehicle',\n",
    "    'battery cell, Li-ion, NMC622',\n",
    "    'auxilliary electronics inputs, for fuel cell electric vehicle',\n",
    "    'auxilliary material inputs, for fuel cell electric vehicle',\n",
    "    'fuel cell stack, for fuel cell electric vehicle',\n",
    "    'carbon fiber, weaved',\n",
    "    'tank liner, polyethylene, high density',\n",
    "    'transformer and rectifier unit, for electrolyser',\n",
    "    'fuel tank, for diesel road vehicle',\n",
    "    'fuel tank, for compressed hydrogen gas, 700bar',\n",
    "    'fuel tank, for compressed hydrogen gas, 700bar',\n",
    "    'fuel tank, for compressed hydrogen gas, 700bar',\n",
    "    'fuel tank, for compressed natural gas, 200 bar',\n",
    "    'charger, level 3, plugin, 200 kW, for electric vehicle',\n",
    "    'gearbox, for lorry',\n",
    "    'transmission, for lorry',\n",
    "    'suspension, for lorry',\n",
    "    'power electronics, for lorry',\n",
    "    'auxilliary material inputs, for electric lorry',\n",
    "    'retarder, for lorry',\n",
    "    'cabin, for lorry',\n",
    "    'frame, blanks and saddle, for lorry',\n",
    "    'tires and wheels, for lorry',\n",
    "    'auxilliary material inputs, for hydrid electric lorry',\n",
    "    'exhaust system, for lorry',\n",
    "    'internal combustion engine, for lorry',\n",
    "    'lead acid battery, for lorry',\n",
    "    'charger, level 3, with pantograph, 450 kW, for electric vehicle',\n",
    "    'overhead lines, for electric vehicle',\n",
    "    'battery cell, Li-ion, LTO',\n",
    "    'charging station, 3kW',\n",
    "    'battery cell,  Li-ion, LFP',\n",
    "    'battery cell, Li-ion, NCA',\n",
    "    'assembly operation, for lorry'\n",
    "]\n",
    "\n",
    "print(len(products))\n",
    "\n",
    "acts = [a for a in bw.Database(\"brian\") if a[\"reference product\"] in products]"
   ]
  },
  {
   "cell_type": "code",
   "execution_count": null,
   "id": "2fe0b434-3bf6-4966-8b32-4a8edc4fa4a9",
   "metadata": {},
   "outputs": [],
   "source": [
    "len(acts)"
   ]
  },
  {
   "cell_type": "code",
   "execution_count": null,
   "id": "bbb39e2b-407c-4322-bcdb-d1052d752269",
   "metadata": {},
   "outputs": [],
   "source": [
    "[a[\"reference product\"] for a in acts]"
   ]
  },
  {
   "cell_type": "code",
   "execution_count": null,
   "id": "da6140c8-de76-4652-adc2-71eb503db0ad",
   "metadata": {},
   "outputs": [],
   "source": [
    "import bw2data\n",
    "bw2io.BW2Package.export_obj(obj=bw.Database(\"brian\"), filename=\"db_for_brian.bw2package\")"
   ]
  },
  {
   "cell_type": "code",
   "execution_count": null,
   "id": "064e659a-3099-4873-95f7-58cfd38b182a",
   "metadata": {},
   "outputs": [],
   "source": [
    "import bw2data\n",
    "bw2io.BW2Package.import_file(\"db_for_brian.bw2package\")"
   ]
  },
  {
   "cell_type": "code",
   "execution_count": null,
   "id": "72c77405-f7ce-4bb5-ba51-25da01464e38",
   "metadata": {},
   "outputs": [],
   "source": []
  },
  {
   "cell_type": "code",
   "execution_count": null,
   "id": "99d0e38d-2076-43bf-89b5-0f1eb0b2c517",
   "metadata": {},
   "outputs": [],
   "source": [
    "fp = \"/Users/romain/Library/Application Support/Brightway3/ei39.f1469ad5eb0a071dc60323f6e0fce980/output/lci-brian.xlsx\"\n",
    "import bw2io\n",
    "\n",
    "i = bw2io.ExcelImporter(fp)\n",
    "i.apply_strategies()"
   ]
  },
  {
   "cell_type": "code",
   "execution_count": null,
   "id": "6e1c7c26-2f03-4f08-a51f-e49dd9a24654",
   "metadata": {},
   "outputs": [],
   "source": [
    "ei_acts = list(set([(a[\"name\"], a[\"reference product\"]) for a in bw.Database(\"ecoinvent 3.9.1 cutoff\")]))\n",
    "print(len(ei_acts))"
   ]
  },
  {
   "cell_type": "code",
   "execution_count": null,
   "id": "c7e00458-5c8f-4020-b572-217edbcd99b0",
   "metadata": {},
   "outputs": [],
   "source": [
    "for ds in i.data:\n",
    "    if (ds[\"name\"], ds[\"reference product\"]) in ei_acts:\n",
    "        i.data.remove(ds)"
   ]
  },
  {
   "cell_type": "code",
   "execution_count": null,
   "id": "3b401e2d-00ac-436c-9790-4d2993b34d5c",
   "metadata": {},
   "outputs": [],
   "source": [
    "for ds in i.data:\n",
    "    if (ds[\"name\"], ds[\"reference product\"]) not in ei_acts:\n",
    "        print(ds[\"name\"])"
   ]
  },
  {
   "cell_type": "code",
   "execution_count": null,
   "id": "14c845d0-bec2-422a-b45f-65449cfee617",
   "metadata": {},
   "outputs": [],
   "source": [
    "len(i.data)"
   ]
  },
  {
   "cell_type": "code",
   "execution_count": null,
   "id": "aae4a053-361c-467f-b2bf-8e0ec296825d",
   "metadata": {},
   "outputs": [],
   "source": [
    "for ds in i.data:\n",
    "    print(ds[\"name\"])"
   ]
  },
  {
   "cell_type": "code",
   "execution_count": null,
   "id": "b925692a-0ea5-4d81-ab0d-f372ed885066",
   "metadata": {},
   "outputs": [],
   "source": [
    "i.match_database(fields=[\"name\", \"unit\", \"location\"])\n",
    "i.match_database(\"ecoinvent 3.9.1 cutoff\", fields=[\"name\", \"reference product\", \"location\", \"unit\"])\n",
    "i.match_database(\"biosphere3\", fields=[\"name\", \"categories\", \"unit\"])"
   ]
  },
  {
   "cell_type": "code",
   "execution_count": null,
   "id": "c11cbab3-54d4-4b5f-95af-c884c132cf71",
   "metadata": {},
   "outputs": [],
   "source": [
    "i.statistics()"
   ]
  },
  {
   "cell_type": "code",
   "execution_count": null,
   "id": "a9c2561c-04b2-40ff-9260-e98001d18182",
   "metadata": {},
   "outputs": [],
   "source": [
    "list(i.unlinked)[-1]"
   ]
  },
  {
   "cell_type": "code",
   "execution_count": null,
   "id": "ce5a2786-ca13-4da6-ab1f-a1e8851d13cd",
   "metadata": {},
   "outputs": [],
   "source": [
    "bw.get_activity(('brian', '360c5e612a154ebb8cee2650bcc1bc75_copy1'))"
   ]
  },
  {
   "cell_type": "code",
   "execution_count": null,
   "id": "63f69aa3-ab14-4301-8ad7-5ed044bc1ec0",
   "metadata": {},
   "outputs": [],
   "source": [
    "for f in bw.Database(\"biosphere3\"):\n",
    "    if f[\"code\"] == \"e030108f-2125-4bcb-a73b-ad72130fcca3\":\n",
    "        print(f)"
   ]
  },
  {
   "cell_type": "code",
   "execution_count": null,
   "id": "834f3044-a3eb-4527-8c36-cbfdc92cf312",
   "metadata": {},
   "outputs": [],
   "source": [
    "bw.projects.set_current(\"ei39\")"
   ]
  },
  {
   "cell_type": "code",
   "execution_count": null,
   "id": "bdf5d023-c454-47cb-8a7f-254ab7aa95a1",
   "metadata": {},
   "outputs": [],
   "source": [
    "l = []\n",
    "\n",
    "for f in bw.Database(\"biosphere3\"):\n",
    "    l.append([f[\"name\"], f[\"categories\"][0], f[\"categories\"][1] if len(f[\"categories\"])>1 else \"unspecified\", f[\"unit\"], f[\"code\"]])"
   ]
  },
  {
   "cell_type": "code",
   "execution_count": null,
   "id": "523e3465-6669-481f-a549-667c79eb75e0",
   "metadata": {},
   "outputs": [],
   "source": [
    "import csv\n",
    "\n",
    "with open(\"flows_biosphere_39.csv\", \"w\", newline=\"\", ) as f:\n",
    "    writer = csv.writer(f, delimiter=\";\")\n",
    "    writer.writerows(l)"
   ]
  },
  {
   "cell_type": "code",
   "execution_count": null,
   "id": "66dd7104-57aa-4338-945e-c005711a8e72",
   "metadata": {},
   "outputs": [],
   "source": [
    "ndb.scenarios[1][\"iam data\"].fuel_markets.sel(region=\"NEU\").variables.values"
   ]
  },
  {
   "cell_type": "code",
   "execution_count": null,
   "id": "07410afa-636e-4960-b73a-09d4b472ca32",
   "metadata": {},
   "outputs": [],
   "source": [
    "import numpy as np\n",
    "for ds in ndb.scenarios[1][\"database\"]:\n",
    "    if ds[\"name\"] == (\"carbon dioxide, captured from atmosphere, with a solvent-based direct air capture system, 1MtCO2, with waste heat, and grid electricity\",\n",
    "                            \"carbon dioxide, captured from atmosphere\"):\n",
    "            print(ds[\"name\"], ds[\"location\"])"
   ]
  },
  {
   "cell_type": "code",
   "execution_count": null,
   "id": "38db0088-294b-4fe4-9476-5e3ad1928b1e",
   "metadata": {},
   "outputs": [],
   "source": [
    "for ds in ndb.scenarios[1][\"database\"]:\n",
    "    if \"carbon dioxide, captured\" in ds[\"name\"]:\n",
    "        print(ds[\"name\"], ds[\"location\"])"
   ]
  },
  {
   "cell_type": "code",
   "execution_count": null,
   "id": "225fc5ae-a809-4f4f-86aa-bfeadfd8f9a3",
   "metadata": {},
   "outputs": [],
   "source": [
    "ndb.scenarios[0][\"iam data\"].fuel_markets.sel(region=\"WEU\", year=2050)"
   ]
  },
  {
   "cell_type": "code",
   "execution_count": null,
   "id": "c119f58f-7c7f-4ae3-9ed1-da5d66e117f4",
   "metadata": {},
   "outputs": [],
   "source": [
    "ndb.scenarios[0][\"iam data\"].fuel_markets.sel(region=\"WEU\")"
   ]
  },
  {
   "cell_type": "code",
   "execution_count": null,
   "id": "eda800d6-71a9-44ac-96d9-5b08f3a1bdd5",
   "metadata": {},
   "outputs": [],
   "source": [
    "ndb.update_electricity()"
   ]
  },
  {
   "cell_type": "code",
   "execution_count": null,
   "id": "3a6b893a-288b-4efd-861c-4c076ec833d5",
   "metadata": {},
   "outputs": [],
   "source": [
    "ndb.scenarios[0][\"iam data\"].fuel_markets"
   ]
  },
  {
   "cell_type": "code",
   "execution_count": null,
   "id": "cf5554a4-3f00-41e8-8c7d-93fea7d7fb96",
   "metadata": {},
   "outputs": [],
   "source": [
    "ndb.generate_scenario_report()"
   ]
  },
  {
   "cell_type": "code",
   "execution_count": null,
   "id": "54cf2fb0-3d72-4b55-91dd-99111c1e56b5",
   "metadata": {},
   "outputs": [],
   "source": [
    "ndb.generate_change_report()"
   ]
  },
  {
   "cell_type": "code",
   "execution_count": null,
   "id": "d6308c7c-d6b3-4f3a-bbae-51ee3ca647ac",
   "metadata": {},
   "outputs": [],
   "source": [
    "ndb.update_all()"
   ]
  },
  {
   "cell_type": "code",
   "execution_count": null,
   "id": "0a4df5b8-f080-4c5f-9f89-85b60f1ef901",
   "metadata": {},
   "outputs": [],
   "source": [
    "ndb.generate_scenario_report()"
   ]
  },
  {
   "cell_type": "code",
   "execution_count": null,
   "id": "c3befdd3-1c6b-4ea3-a2e5-ac6a00bd4256",
   "metadata": {},
   "outputs": [],
   "source": [
    "ndb.generate_change_report()"
   ]
  },
  {
   "cell_type": "code",
   "execution_count": null,
   "id": "71a07af3-cea2-4ed1-9ce2-df129cc610ae",
   "metadata": {},
   "outputs": [],
   "source": [
    "ndb.scenarios[0][\"iam data\"].gains_data_IAM"
   ]
  },
  {
   "cell_type": "code",
   "execution_count": null,
   "id": "0a65551d-3511-46d5-9d1d-bca62464349a",
   "metadata": {},
   "outputs": [],
   "source": []
  },
  {
   "cell_type": "code",
   "execution_count": null,
   "id": "b985c91f-f574-467e-91e7-06cf0914dec4",
   "metadata": {},
   "outputs": [],
   "source": [
    "ndb.update_all()"
   ]
  },
  {
   "cell_type": "code",
   "execution_count": null,
   "id": "9bb2ac11-7da7-4c39-b87b-7aa1a66ef4b0",
   "metadata": {},
   "outputs": [],
   "source": [
    "ndb.write_db_to_brightway([\"test_dac\", \"test_dac2\"])"
   ]
  },
  {
   "cell_type": "code",
   "execution_count": null,
   "id": "bf88e9fc-4599-4de0-b926-5c8d3769a578",
   "metadata": {},
   "outputs": [],
   "source": [
    "from premise.geomap import Geomap"
   ]
  },
  {
   "cell_type": "code",
   "execution_count": null,
   "id": "a30fd37c-1a81-489b-877d-fe1073eb4106",
   "metadata": {},
   "outputs": [],
   "source": [
    "Geomap()"
   ]
  },
  {
   "cell_type": "code",
   "execution_count": null,
   "id": "8b173e59-c5d2-444c-b287-8b5ee262fa47",
   "metadata": {},
   "outputs": [],
   "source": [
    "Geomap(model=\"remind\").geo.keys()"
   ]
  },
  {
   "cell_type": "code",
   "execution_count": null,
   "id": "d20965c2-7b61-4488-bf78-9e268fc44471",
   "metadata": {},
   "outputs": [],
   "source": [
    "ndb.scenarios[0][\"iam data\"].carbon_capture_rate.sel(variables=\"steel\")"
   ]
  },
  {
   "cell_type": "code",
   "execution_count": null,
   "id": "672acf43-2f1a-4154-8d0f-5366b0490acd",
   "metadata": {},
   "outputs": [],
   "source": [
    "for ds in ndb.scenarios[0][\"database\"]:\n",
    "    for e in ds[\"exchanges\"]:\n",
    "        if e[\"name\"].startswith(\"CO2 capture, at cement production plant\"):\n",
    "            print(e[\"name\"], e.get(\"location\"), e[\"amount\"])\n",
    "            print(ds[\"name\"])\n",
    "            print(\"--------------------\")"
   ]
  },
  {
   "cell_type": "code",
   "execution_count": null,
   "id": "78d7a866-3371-42e5-b1d2-6b8df2a801a4",
   "metadata": {},
   "outputs": [],
   "source": []
  }
 ],
 "metadata": {
  "kernelspec": {
   "display_name": "Python 3 (ipykernel)",
   "language": "python",
   "name": "python3"
  },
  "language_info": {
   "codemirror_mode": {
    "name": "ipython",
    "version": 3
   },
   "file_extension": ".py",
   "mimetype": "text/x-python",
   "name": "python",
   "nbconvert_exporter": "python",
   "pygments_lexer": "ipython3",
   "version": "3.11.10"
  }
 },
 "nbformat": 4,
 "nbformat_minor": 5
}
